{
 "cells": [
  {
   "cell_type": "markdown",
   "metadata": {
    "collapsed": true
   },
   "source": [
    "# UNIT II - PART 2\n",
    "\n",
    "# Strings and Text Manipulation"
   ]
  },
  {
   "cell_type": "code",
   "execution_count": null,
   "metadata": {},
   "outputs": [],
   "source": [
    "name=\"DEEPIKA\"\n",
    "name[1]"
   ]
  },
  {
   "cell_type": "code",
   "execution_count": null,
   "metadata": {},
   "outputs": [],
   "source": [
    "name[-1]"
   ]
  },
  {
   "cell_type": "markdown",
   "metadata": {},
   "source": [
    "## Slicing in strings"
   ]
  },
  {
   "cell_type": "code",
   "execution_count": null,
   "metadata": {},
   "outputs": [],
   "source": [
    "name='myfile.txt'\n",
    "name[0:]"
   ]
  },
  {
   "cell_type": "code",
   "execution_count": null,
   "metadata": {},
   "outputs": [],
   "source": [
    "name[0:1]"
   ]
  },
  {
   "cell_type": "code",
   "execution_count": null,
   "metadata": {},
   "outputs": [],
   "source": [
    "name[0:2]"
   ]
  },
  {
   "cell_type": "code",
   "execution_count": null,
   "metadata": {},
   "outputs": [],
   "source": [
    "name[-4:]"
   ]
  },
  {
   "cell_type": "markdown",
   "metadata": {},
   "source": [
    "# STRING METHODS\n",
    "\n",
    "center, count, endswith, find, isalpha, isdigit, split, join"
   ]
  },
  {
   "cell_type": "code",
   "execution_count": null,
   "metadata": {},
   "outputs": [],
   "source": [
    "s=\"Hi there!\"\n",
    "lenght=()\n",
    "s.center(\"\")"
   ]
  },
  {
   "cell_type": "code",
   "execution_count": null,
   "metadata": {},
   "outputs": [],
   "source": [
    "s.endswith(\"there!\")"
   ]
  },
  {
   "cell_type": "code",
   "execution_count": null,
   "metadata": {},
   "outputs": [],
   "source": [
    "s.find('the')"
   ]
  },
  {
   "cell_type": "code",
   "execution_count": null,
   "metadata": {},
   "outputs": [],
   "source": [
    "'abc'.isalpha()"
   ]
  },
  {
   "cell_type": "code",
   "execution_count": null,
   "metadata": {},
   "outputs": [],
   "source": [
    "\"123\".isdigit()"
   ]
  },
  {
   "cell_type": "code",
   "execution_count": null,
   "metadata": {},
   "outputs": [],
   "source": [
    "words=s.split(\" \") # seperates the string with space\n",
    "words"
   ]
  },
  {
   "cell_type": "code",
   "execution_count": null,
   "metadata": {},
   "outputs": [],
   "source": [
    "\" \".join(words)"
   ]
  },
  {
   "cell_type": "code",
   "execution_count": null,
   "metadata": {},
   "outputs": [],
   "source": [
    "s.replace('i','o')"
   ]
  },
  {
   "cell_type": "markdown",
   "metadata": {},
   "source": [
    "# Iterating String/ Reading a string"
   ]
  },
  {
   "cell_type": "code",
   "execution_count": null,
   "metadata": {},
   "outputs": [],
   "source": [
    "str=\"Welcome to python\"\n",
    "for i in str:\n",
    "    print(i,end=\" \")"
   ]
  },
  {
   "cell_type": "code",
   "execution_count": null,
   "metadata": {},
   "outputs": [],
   "source": [
    "message=\"Welcome to python\"\n",
    "index=0\n",
    "while index<len(message):\n",
    "    letter=message[index]\n",
    "    print(letter,end=\" \")\n",
    "    index+=1"
   ]
  },
  {
   "cell_type": "code",
   "execution_count": null,
   "metadata": {},
   "outputs": [],
   "source": [
    "def copy(str):\n",
    "    new_str=' '\n",
    "    for i in range(len(str)):\n",
    "        new_str+=i\n",
    "    return new_str\n",
    "\n",
    "str = input(\"enter the string\")\n",
    "print(\"The string is \",copy(str))"
   ]
  },
  {
   "cell_type": "code",
   "execution_count": null,
   "metadata": {},
   "outputs": [],
   "source": [
    "for i in range(len(str))\n",
    "    new_str+=str[i]\n",
    "return new_str\n"
   ]
  },
  {
   "cell_type": "markdown",
   "metadata": {},
   "source": [
    "# REGEX String Module ( The re module )"
   ]
  },
  {
   "cell_type": "raw",
   "metadata": {},
   "source": [
    "Regular expresiions are powerful tools for various kinds of string manipulation. These are special text string i.e. used for describing a search pattern to extract information from text.\n",
    "In python, regular expressions can be excessed via re module which comes as a part of std. Library"
   ]
  },
  {
   "cell_type": "code",
   "execution_count": null,
   "metadata": {},
   "outputs": [],
   "source": [
    "# MATCH Function: Matches only at 0 or 1st word of index\n",
    "# re.match(pattern,string,flag=0)\n",
    "\n",
    "import re\n",
    "string=\"She sells sea shells on the sea shore\"\n",
    "pattern1='sells'\n",
    "\n",
    "if re.match(pattern1,string):\n",
    "    print(\"Match Found\")\n",
    "else:\n",
    "    print(pattern1,\"is not in string\")\n",
    "    \n",
    "pattern2='She'\n",
    "\n",
    "if re.match(pattern2,string):\n",
    "    print(\"Match Found\")\n",
    "else:\n",
    "    print(pattern2,\"is not in string\")\n"
   ]
  },
  {
   "cell_type": "code",
   "execution_count": null,
   "metadata": {},
   "outputs": [],
   "source": [
    "# SEARCH Function: Searches in the whole string\n",
    "# search() function\n",
    "# re.search(pattern, string, flag=0)\n",
    "\n",
    "import re\n",
    "string=\"She sells sea shells on the sea shore\"\n",
    "pattern1=\"sells\"\n",
    "\n",
    "if re.search(pattern1,string):\n",
    "    print(\"match fornd\")\n",
    "else:\n",
    "    print(pattern1,\" is not in the string\")\n",
    "    \n",
    "pattern2='hello'\n",
    "\n",
    "if re.search(pattern2,string):\n",
    "    print(\"match fornd\")\n",
    "else:\n",
    "    print(pattern1,\" is not in the string\")"
   ]
  },
  {
   "cell_type": "code",
   "execution_count": null,
   "metadata": {},
   "outputs": [],
   "source": [
    "# SUB Function: Replaces the string \n",
    "# sub can be used to search pattern in the string \n",
    "# and replace it with another string\n",
    "\n",
    "# re.sub(pattern , replacewith, instring, max=0)\n",
    "\n",
    "import re\n",
    "string=\"She sells sea shells on the sea shore\"\n",
    "pattern=\"Sea\"\n",
    "repl=\"ocean\"\n",
    "\n",
    "new_str=re.sub(pattern,repl,string)\n",
    "print(new_str)"
   ]
  },
  {
   "cell_type": "code",
   "execution_count": null,
   "metadata": {},
   "outputs": [],
   "source": [
    "# FINDALL()\n",
    "# it is used to search a string and returns a list of matches of the pattern in the string.\n",
    "# if no match is found, then the empty list will be returned \n",
    "\n",
    "# matchlist=re.findall(pattern, input_str,flag=0)\n",
    "\n",
    "import re\n",
    "pattern = r\"[a-z A-Z]+ \\dt\"\n",
    "\n",
    "matches=re.findall(pattern,\"LXL 2013 VXI 2015 VDI 2014 maruti suzuki cars in India\")\n",
    "\n",
    "for match in matches:\n",
    "    print (match,end=\" \")"
   ]
  },
  {
   "cell_type": "markdown",
   "metadata": {},
   "source": [
    "# examples"
   ]
  },
  {
   "cell_type": "code",
   "execution_count": null,
   "metadata": {},
   "outputs": [],
   "source": [
    "# WAP to demonstrate the use of metacharacter * in re\n",
    "# * denotes 0 or more occurences of a pattern\n",
    "\n",
    "import re\n",
    "pattern= r\"hi(de)*\" # () denotes a group\n",
    "\n",
    "if re.search(pattern,\"hidededede\"):\n",
    "    print(\" Matched \")\n",
    "if re.search(pattern,\"hi\")\n",
    "    print(\" Matched hi \")"
   ]
  },
  {
   "cell_type": "code",
   "execution_count": null,
   "metadata": {},
   "outputs": [],
   "source": [
    "# WAP to demonstrate the use of metacharacter + in re\n",
    "# + denotes 1 or more occurences of a pattern\n",
    "\n",
    "import re\n",
    "pattern=r\"hi(de)*\"\n",
    "\n",
    "if re.search(pattern,\"hidededede\"):\n",
    "    print(\"match hidededede\")\n",
    "if re.search(pattern,\"hi\"):\n",
    "    print(\"match hi\")"
   ]
  },
  {
   "cell_type": "code",
   "execution_count": null,
   "metadata": {},
   "outputs": [],
   "source": [
    "# WAP to demonstrate to use of ?\n",
    "# ? denotes 0 or 1 occurences\n",
    "\n",
    "import re\n",
    "pattern = r\"hi(de)?\" \n",
    "\n",
    "if re.search(pattern,\"hidededede\"):\n",
    "    print(\" Match hidededede\")\n",
    "if re.search(pattern,\"hi\"):\n",
    "    print(\"Match hi\")"
   ]
  },
  {
   "cell_type": "code",
   "execution_count": null,
   "metadata": {},
   "outputs": [],
   "source": [
    "# WAP to demomnstrate to use of X{m,n}\n",
    "# X{m,n} denotes X should be atleast m times and maximum n times\n",
    "# $ denotes the end of line\n",
    "\n",
    "import re\n",
    "pattern= r\"2{1,4}$\"\n",
    "\n",
    "if re.match(pattern,\"2\"):\n",
    "    print(\"Matched 2 \")\n",
    "if re.match(pattern,\"222\"):\n",
    "    print(\"Match 222\")\n",
    "if re.match(pattern,\"22222\"):\n",
    "    print(\"Match 22222\")"
   ]
  },
  {
   "cell_type": "raw",
   "metadata": {},
   "source": [
    "--------------------------------------------------------\n",
    "GROUPS IN REGEX\n",
    "--------------------------------------------------------\n",
    "\n",
    "A group is created by surrounding a part of regular expression by using paranthesis.\n",
    "We can even give group as argument to a metacharacter ( such as *,+,? )\n",
    "\n",
    "The contents of groups in a match can be accessed by using group function.\n",
    "\n",
    "group(0) or group() returns the whole match.\n",
    "\n",
    "group(n) where n<0 returns the nth group from the left.\n"
   ]
  },
  {
   "cell_type": "code",
   "execution_count": null,
   "metadata": {},
   "outputs": [],
   "source": [
    "# WAP to demonstrate use of group in regex\n",
    "\n",
    "import re\n",
    "pattern=r\"gr(ea)*t\"\n",
    "\n",
    "if re.match(pattern,\"great\"):\n",
    "    print(\"match ae in great\")\n",
    "if re.match(pattern,\"greaeaeaeat\"):\n",
    "    print(\"matched ae in greaeaeaeat\")"
   ]
  },
  {
   "cell_type": "code",
   "execution_count": null,
   "metadata": {},
   "outputs": [],
   "source": [
    "# WAP to demonstrate use of groups()\n",
    "\n",
    "import re\n",
    "\n",
    "pattern=r\"go(od)go(in)gpy(th)on\"\n",
    "match=re.match(pattern,\"goodgoingpythongoodgoingpythongoodgoingpython\")\n",
    "\n",
    "if match:\n",
    "    print(match.group())\n",
    "    print(match.group(0))\n",
    "    print(match.group(1))\n",
    "    print(match.group(2))\n",
    "    print(match.groups()) # groups()"
   ]
  }
 ],
 "metadata": {
  "kernelspec": {
   "display_name": "Python 3.6",
   "language": "python",
   "name": "python36"
  },
  "language_info": {
   "codemirror_mode": {
    "name": "ipython",
    "version": 3
   },
   "file_extension": ".py",
   "mimetype": "text/x-python",
   "name": "python",
   "nbconvert_exporter": "python",
   "pygments_lexer": "ipython3",
   "version": "3.6.3"
  }
 },
 "nbformat": 4,
 "nbformat_minor": 2
}
