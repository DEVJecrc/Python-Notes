{
 "cells": [
  {
   "cell_type": "markdown",
   "metadata": {},
   "source": [
    "# UNIT 2\n",
    "\n",
    "## PART I - DECISION MAKING and LOOPING\n",
    "\n",
    "Selection statements and Control Statements\n",
    "\n",
    "\n",
    "we use indentation (tab) for creating statements within a statement,\n",
    "in c/c++ we were using curly brackets ( '{' '}' )\n"
   ]
  },
  {
   "cell_type": "code",
   "execution_count": null,
   "metadata": {},
   "outputs": [],
   "source": [
    "if 10>5:\n",
    "    print(\" see no brackets \")\n",
    "    print(\" just indentation \")"
   ]
  },
  {
   "cell_type": "raw",
   "metadata": {},
   "source": [
    "Non-zero and Non-null values are TRUE in python\n",
    "ZERO and NULL values are FALSE in python"
   ]
  },
  {
   "cell_type": "code",
   "execution_count": null,
   "metadata": {},
   "outputs": [],
   "source": [
    "if none:  # NULL in Python is none\n",
    "    print(\"false\")\n",
    "elif 0:   # ZERO is also false\n",
    "    print(\"false\")\n",
    "elif 10:  # NON_ZERO Is true\n",
    "    print(\"true\")"
   ]
  },
  {
   "cell_type": "markdown",
   "metadata": {},
   "source": [
    "## IF Statement\n",
    "\n",
    "if expression:\n",
    "    statements ( of expr true )\n",
    "statements (if expr not true)\n",
    "\n",
    "\n",
    "eg:      "
   ]
  },
  {
   "cell_type": "code",
   "execution_count": null,
   "metadata": {},
   "outputs": [],
   "source": [
    "var1 = 100"
   ]
  },
  {
   "cell_type": "code",
   "execution_count": null,
   "metadata": {},
   "outputs": [],
   "source": [
    "if var1:\n",
    "    print(\"Got a true exp\")\n",
    "    print(var1)"
   ]
  },
  {
   "cell_type": "code",
   "execution_count": null,
   "metadata": {},
   "outputs": [],
   "source": [
    "var2 = 0\n",
    "\n",
    "if var2:\n",
    "    print(\"got a flase exp\") #it is not going to be printed"
   ]
  },
  {
   "cell_type": "markdown",
   "metadata": {},
   "source": [
    "## Syntax of elif and else\n",
    "\n",
    "if expression:\n",
    "    statement\n",
    "elif\n",
    "    statement:\n",
    "else\n",
    "    statement:"
   ]
  },
  {
   "cell_type": "code",
   "execution_count": null,
   "metadata": {},
   "outputs": [],
   "source": [
    "amount = int(input(\"Enter input\"))\n",
    "\n",
    "if amount<1000:\n",
    "    discount=amount*0.05\n",
    "    print(\"Discount\",discount)\n",
    "else:\n",
    "    discount=amount*0.1\n",
    "    print(\"Discount\",discount)\n",
    "print(\"NET Payable \", amount-discount)"
   ]
  },
  {
   "cell_type": "raw",
   "metadata": {},
   "source": [
    "NOTE: \n",
    "\n",
    "Core python does not provide switch or case statements as if either programming languages but we can use if and elif statements to simulate it instead."
   ]
  },
  {
   "cell_type": "markdown",
   "metadata": {},
   "source": [
    "# LOOPS\n",
    "\n",
    "there are only two loop statements in python\n",
    "1. FOR\n",
    "2. WHILE\n",
    "\n",
    "There isn't any do-while loop in python"
   ]
  },
  {
   "cell_type": "markdown",
   "metadata": {},
   "source": [
    "## WHILE LOOP"
   ]
  },
  {
   "cell_type": "raw",
   "metadata": {},
   "source": [
    "while expression:\n",
    "    statements\n",
    "    \n",
    "ex."
   ]
  },
  {
   "cell_type": "code",
   "execution_count": 2,
   "metadata": {},
   "outputs": [
    {
     "name": "stdout",
     "output_type": "stream",
     "text": [
      "0 is less than 5\n",
      "1 is less than 5\n",
      "2 is less than 5\n",
      "3 is less than 5\n",
      "4 is less than 5\n"
     ]
    }
   ],
   "source": [
    "var = 0\n",
    "\n",
    "while var<5:\n",
    "    print(var,\"is less than 5\")\n",
    "    var+=1\n"
   ]
  },
  {
   "cell_type": "markdown",
   "metadata": {},
   "source": [
    "## FOR LOOP"
   ]
  },
  {
   "cell_type": "markdown",
   "metadata": {},
   "source": [
    "range() is the right function that can be used to iterate over sequences of number.\n",
    "\n",
    "SYNTAX :\n",
    "\n",
    "for iteration_var in sequence:\n",
    "    statements"
   ]
  },
  {
   "cell_type": "code",
   "execution_count": 3,
   "metadata": {},
   "outputs": [
    {
     "data": {
      "text/plain": [
       "range(0, 5)"
      ]
     },
     "execution_count": 3,
     "metadata": {},
     "output_type": "execute_result"
    }
   ],
   "source": [
    "range(5)"
   ]
  },
  {
   "cell_type": "code",
   "execution_count": 4,
   "metadata": {},
   "outputs": [
    {
     "data": {
      "text/plain": [
       "[0, 1, 2, 3, 4]"
      ]
     },
     "execution_count": 4,
     "metadata": {},
     "output_type": "execute_result"
    }
   ],
   "source": [
    "list(range(5))"
   ]
  },
  {
   "cell_type": "code",
   "execution_count": null,
   "metadata": {},
   "outputs": [],
   "source": [
    "for var in list(range(5))\n",
    "    print(var)"
   ]
  },
  {
   "cell_type": "code",
   "execution_count": 6,
   "metadata": {},
   "outputs": [
    {
     "name": "stdout",
     "output_type": "stream",
     "text": [
      " Current letter  p\n",
      " Current letter  y\n",
      " Current letter  t\n",
      " Current letter  h\n",
      " Current letter  o\n",
      " Current letter  n\n"
     ]
    }
   ],
   "source": [
    "for letter in 'python':\n",
    "    print(' Current letter ',letter)"
   ]
  },
  {
   "cell_type": "code",
   "execution_count": null,
   "metadata": {},
   "outputs": [],
   "source": [
    "fruits = ['havana','mango','apple']\n",
    "for fruit in fruits:\n",
    "    print(\"Current fruit\",fruit)\n"
   ]
  },
  {
   "cell_type": "markdown",
   "metadata": {},
   "source": [
    "## Nested for loop"
   ]
  },
  {
   "cell_type": "raw",
   "metadata": {},
   "source": [
    "for iter_var in seq\n",
    "    for iter_var in seq\n",
    "        statements\n",
    "    statements\n",
    "    \n",
    "#end"
   ]
  },
  {
   "cell_type": "raw",
   "metadata": {},
   "source": [
    "break;\n",
    "continue;\n",
    "pass; \n",
    "\n",
    "Keywords\n",
    "\n",
    "break throws the control out of the loop.\n",
    "continue throws the control to the condition.\n",
    "pass is a null statement which gets executed and nothing happens.\n"
   ]
  },
  {
   "cell_type": "code",
   "execution_count": 9,
   "metadata": {},
   "outputs": [
    {
     "name": "stdout",
     "output_type": "stream",
     "text": [
      "1\n",
      "2\n",
      "3\n",
      "4\n",
      "6\n",
      "7\n",
      "8\n",
      "9\n",
      "10\n",
      "done\n"
     ]
    }
   ],
   "source": [
    "for i in range(1,11):\n",
    "    if (i == 5):\n",
    "        continue\n",
    "        print (i) # isn't executed because of continue\n",
    "    print(i)\n",
    "print('done')"
   ]
  },
  {
   "cell_type": "code",
   "execution_count": 10,
   "metadata": {},
   "outputs": [
    {
     "name": "stdout",
     "output_type": "stream",
     "text": [
      "1\n",
      "2\n",
      "3\n",
      "4\n",
      "done\n"
     ]
    }
   ],
   "source": [
    "for i in range(1,11):\n",
    "    if (i == 5):\n",
    "        break\n",
    "        print (i) # isn't executed because of break\n",
    "    print(i)\n",
    "print('done')"
   ]
  },
  {
   "cell_type": "code",
   "execution_count": null,
   "metadata": {},
   "outputs": [],
   "source": [
    "for i in range(1,11):\n",
    "    if (i == 5):\n",
    "        pass\n",
    "        print (i) # is executed because of pass\n",
    "    print(i)\n",
    "print('done')"
   ]
  },
  {
   "cell_type": "code",
   "execution_count": null,
   "metadata": {},
   "outputs": [],
   "source": [
    "print(' PART I ENDS HERE')"
   ]
  }
 ],
 "metadata": {
  "kernelspec": {
   "display_name": "Python 3",
   "language": "python",
   "name": "python3"
  },
  "language_info": {
   "codemirror_mode": {
    "name": "ipython",
    "version": 3
   },
   "file_extension": ".py",
   "mimetype": "text/x-python",
   "name": "python",
   "nbconvert_exporter": "python",
   "pygments_lexer": "ipython3",
   "version": "3.6.4"
  }
 },
 "nbformat": 4,
 "nbformat_minor": 2
}
